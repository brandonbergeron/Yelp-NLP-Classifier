{
 "cells": [
  {
   "cell_type": "markdown",
   "metadata": {},
   "source": [
    "# Modeling with NN "
   ]
  },
  {
   "cell_type": "code",
   "execution_count": 65,
   "metadata": {},
   "outputs": [],
   "source": [
    "## Import need packages \n",
    "from keras.wrappers.scikit_learn import KerasClassifier\n",
    "import pandas as pd\n",
    "import numpy as np\n",
    "\n",
    "from keras.models import Sequential\n",
    "from keras.layers import Dense, BatchNormalization,Dropout\n",
    "\n",
    "from sklearn.model_selection import GridSearchCV, train_test_split\n",
    "from sklearn.pipeline import make_pipeline\n",
    "from sklearn.preprocessing import StandardScaler\n",
    "from sklearn.feature_extraction.text import CountVectorizer, TfidfVectorizer\n",
    "from sklearn.metrics import plot_confusion_matrix, confusion_matrix\n",
    "from sklearn.metrics import accuracy_score, balanced_accuracy_score\n",
    "from sklearn.preprocessing import StandardScaler\n",
    "import matplotlib.pyplot as plt\n"
   ]
  },
  {
   "cell_type": "code",
   "execution_count": 76,
   "metadata": {},
   "outputs": [],
   "source": [
    "# defining a funciton with \n",
    "def create_model(units=60, dropout=0, reg=None):\n",
    "    model = Sequential()\n",
    "    model.add(Dense(12, input_shape=(1000,), activation='relu'))\n",
    "    model.add(BatchNormalization())\n",
    "    \n",
    "    model.add(Dense(units, activation='relu', kernel_regularizer = reg))\n",
    "    model.add(Dropout(dropout))\n",
    " \n",
    "    \n",
    "    model.add(Dense(1, activation='sigmoid'))\n",
    "    model.compile(loss='binary_crossentropy', optimizer='adam', metrics=['accuracy'])\n",
    "    return model"
   ]
  },
  {
   "cell_type": "code",
   "execution_count": 77,
   "metadata": {},
   "outputs": [],
   "source": [
    "# df_reviews = pd.read_csv('../data/Las_Vegas_400_reviews.csv')\n",
    "# df_reviews = pd.read_csv('../data/Las_Vegas_all_1000_reviews.csv')\n",
    "df_reviews = pd.read_csv('../data/Las_Vegas_all_reviews.csv')\n",
    "df_revs_combined = df_reviews.groupby(['business_id', 'name', \n",
    "                               'address', 'city' ,\n",
    "                               'state', 'postal_code', \n",
    "                               'latitude' ,'longitude' , \n",
    "                               'stars', 'review_count', \n",
    "                               'is_open', 'attributes', 'categories']).agg({'text': ' '.join})\n",
    "df_revs_combined = df_revs_combined.reset_index()\n",
    "df_revs_combined['review_wc'] = df_revs_combined['text'].str.split().str.len()\n",
    "\n",
    "X = df_revs_combined['text']\n",
    "y = df_revs_combined['is_open']\n",
    "\n",
    "X_train, X_test, y_train, y_test = train_test_split(X, y, random_state=251)"
   ]
  },
  {
   "cell_type": "code",
   "execution_count": 78,
   "metadata": {},
   "outputs": [],
   "source": [
    "# using TfidfVectorizer and vectorizing both test and train data \n",
    "tf_vect = TfidfVectorizer(stop_words='english', max_features=1000)\n",
    "X_train_trans = tf_vect.fit_transform(X_train)\n",
    "X_test_trans = tf_vect.transform(X_test)\n",
    "X_train_trans = X_train_trans.toarray()\n",
    "X_test_trans = X_test_trans.toarray()"
   ]
  },
  {
   "cell_type": "code",
   "execution_count": 79,
   "metadata": {},
   "outputs": [
    {
     "data": {
      "text/plain": [
       "((1326, 1000), (442, 1000))"
      ]
     },
     "execution_count": 79,
     "metadata": {},
     "output_type": "execute_result"
    }
   ],
   "source": [
    "X_train_trans.shape, X_test_trans.shape"
   ]
  },
  {
   "cell_type": "code",
   "execution_count": 42,
   "metadata": {},
   "outputs": [],
   "source": [
    "# creating Standard Scaler, model and pipe for grid search \n",
    "sscaler = StandardScaler(with_mean=False)\n",
    "model = KerasClassifier(build_fn=create_model, epochs=10, verbose=0)\n",
    "pipe = make_pipeline(sscaler,model)"
   ]
  },
  {
   "cell_type": "code",
   "execution_count": 44,
   "metadata": {},
   "outputs": [
    {
     "data": {
      "text/plain": [
       "Pipeline(steps=[('standardscaler', StandardScaler(with_mean=False)),\n",
       "                ('kerasclassifier',\n",
       "                 <tensorflow.python.keras.wrappers.scikit_learn.KerasClassifier object at 0x7f794224afd0>)])"
      ]
     },
     "execution_count": 44,
     "metadata": {},
     "output_type": "execute_result"
    }
   ],
   "source": [
    "# fit pipe \n",
    "pipe.fit(X_train_trans, y_train)"
   ]
  },
  {
   "cell_type": "code",
   "execution_count": 45,
   "metadata": {},
   "outputs": [],
   "source": [
    "# setting params for grid search\n",
    "params = {'kerasclassifier__units': [64, 128, 256, 512],\n",
    "          'kerasclassifier__dropout':[0.2, 0.3, 0.4, 0.5],\n",
    "          'kerasclassifier__reg':['l2', None],\n",
    "         }\n",
    "grid = GridSearchCV(pipe, param_grid=params)"
   ]
  },
  {
   "cell_type": "code",
   "execution_count": 46,
   "metadata": {},
   "outputs": [
    {
     "data": {
      "text/plain": [
       "GridSearchCV(estimator=Pipeline(steps=[('standardscaler',\n",
       "                                        StandardScaler(with_mean=False)),\n",
       "                                       ('kerasclassifier',\n",
       "                                        <tensorflow.python.keras.wrappers.scikit_learn.KerasClassifier object at 0x7f794224afd0>)]),\n",
       "             param_grid={'kerasclassifier__dropout': [0.2, 0.3, 0.4, 0.5],\n",
       "                         'kerasclassifier__reg': ['l2', None],\n",
       "                         'kerasclassifier__units': [64, 128, 256, 512]})"
      ]
     },
     "execution_count": 46,
     "metadata": {},
     "output_type": "execute_result"
    }
   ],
   "source": [
    "# fitting Grid search \n",
    "grid.fit(X_train_trans, y_train)"
   ]
  },
  {
   "cell_type": "code",
   "execution_count": 47,
   "metadata": {},
   "outputs": [
    {
     "data": {
      "text/plain": [
       "0.9675716161727905"
      ]
     },
     "execution_count": 47,
     "metadata": {},
     "output_type": "execute_result"
    }
   ],
   "source": [
    "# get grid score for train\n",
    "grid.score(X_train_trans, y_train)"
   ]
  },
  {
   "cell_type": "code",
   "execution_count": 48,
   "metadata": {},
   "outputs": [
    {
     "data": {
      "text/plain": [
       "0.7805429697036743"
      ]
     },
     "execution_count": 48,
     "metadata": {},
     "output_type": "execute_result"
    }
   ],
   "source": [
    "# get grid score for test\n",
    "grid.score(X_test_trans, y_test)"
   ]
  },
  {
   "cell_type": "code",
   "execution_count": 49,
   "metadata": {},
   "outputs": [
    {
     "data": {
      "text/plain": [
       "{'kerasclassifier__dropout': 0.5,\n",
       " 'kerasclassifier__reg': None,\n",
       " 'kerasclassifier__units': 128}"
      ]
     },
     "execution_count": 49,
     "metadata": {},
     "output_type": "execute_result"
    }
   ],
   "source": [
    "# get Best Param from grid search \n",
    "grid.best_params_"
   ]
  },
  {
   "cell_type": "code",
   "execution_count": 50,
   "metadata": {},
   "outputs": [
    {
     "data": {
      "text/plain": [
       "1    0.724548\n",
       "0    0.275452\n",
       "Name: is_open, dtype: float64"
      ]
     },
     "execution_count": 50,
     "metadata": {},
     "output_type": "execute_result"
    }
   ],
   "source": [
    "# null model for comparison \n",
    "df_revs_combined['is_open'].value_counts(normalize=True)"
   ]
  },
  {
   "cell_type": "code",
   "execution_count": 51,
   "metadata": {},
   "outputs": [
    {
     "name": "stderr",
     "output_type": "stream",
     "text": [
      "/home/babu/code/jupyterenvironment/lib/python3.8/site-packages/tensorflow/python/keras/engine/sequential.py:450: UserWarning: `model.predict_classes()` is deprecated and will be removed after 2021-01-01. Please use instead:* `np.argmax(model.predict(x), axis=-1)`,   if your model does multi-class classification   (e.g. if it uses a `softmax` last-layer activation).* `(model.predict(x) > 0.5).astype(\"int32\")`,   if your model does binary classification   (e.g. if it uses a `sigmoid` last-layer activation).\n",
      "  warnings.warn('`model.predict_classes()` is deprecated and '\n"
     ]
    }
   ],
   "source": [
    "# Predict from test data\n",
    "predics =  grid.predict(X_test_trans)"
   ]
  },
  {
   "cell_type": "code",
   "execution_count": 53,
   "metadata": {},
   "outputs": [],
   "source": [
    "# get True Negative, False positive, False Negative, and True Positive\n",
    "tn, fp, fn,tp = confusion_matrix(y_test, predics).ravel()"
   ]
  },
  {
   "cell_type": "code",
   "execution_count": 54,
   "metadata": {},
   "outputs": [
    {
     "name": "stdout",
     "output_type": "stream",
     "text": [
      "100 23 74 245\n"
     ]
    }
   ],
   "source": [
    "print(tn, fp, fn,tp)"
   ]
  },
  {
   "cell_type": "code",
   "execution_count": 56,
   "metadata": {},
   "outputs": [
    {
     "name": "stdout",
     "output_type": "stream",
     "text": [
      " Precision: 0.914179104477612\n",
      " Recall: 0.768025078369906\n",
      " Specificity: 0.768025078369906\n",
      " Balanced Accuracy: 0.7905166042256033\n",
      " Accuracy Score: 0.7805429864253394\n",
      " False Positive Rate : 0.18699186991869918\n"
     ]
    }
   ],
   "source": [
    "# Generate other metrics \n",
    "precision = tp / (tp+fp)\n",
    "recall = tp / (tp+fn)\n",
    "specificity = tn/(tn+fp)\n",
    "balanced_accuracy = (specificity + recall)/2\n",
    "ac = accuracy_score(y_test, predics)\n",
    "fpr = fp / (fp+tn) # False Positive Rate \n",
    "print(f\" Precision: {precision}\")\n",
    "print(f\" Recall: {recall}\")\n",
    "print(f\" Specificity: {recall}\")\n",
    "print(f\" Balanced Accuracy: {balanced_accuracy}\")\n",
    "print(f\" Accuracy Score: {ac}\")\n",
    "print(f\" False Positive Rate : {fpr}\")"
   ]
  },
  {
   "cell_type": "markdown",
   "metadata": {},
   "source": [
    "# Running NN with best Params"
   ]
  },
  {
   "cell_type": "markdown",
   "metadata": {},
   "source": [
    "#### dropout =  0.5\n",
    "####  reg = 'l2'\n",
    "#### units =  128"
   ]
  },
  {
   "cell_type": "code",
   "execution_count": 57,
   "metadata": {},
   "outputs": [],
   "source": [
    "# Scale both test and train data \n",
    "sscaler = StandardScaler(with_mean=False)\n",
    "X_train_scaled = sscaler.fit_transform(X_train_trans)\n",
    "X_test_scaled = sscaler.transform(X_test_trans)"
   ]
  },
  {
   "cell_type": "code",
   "execution_count": 59,
   "metadata": {},
   "outputs": [],
   "source": [
    "# create and compile Neural Network \n",
    "model = Sequential()\n",
    "model.add(Dense(12, input_shape=(1000,), activation='relu'))\n",
    "model.add(BatchNormalization())\n",
    "model.add(Dense(128, activation='relu', kernel_regularizer = 'l2'))\n",
    "model.add(Dropout(0.5))\n",
    "model.add(Dense(1, activation='sigmoid'))\n",
    "model.compile(loss='binary_crossentropy', optimizer='adam', metrics=['accuracy'])"
   ]
  },
  {
   "cell_type": "code",
   "execution_count": 60,
   "metadata": {},
   "outputs": [
    {
     "name": "stdout",
     "output_type": "stream",
     "text": [
      "Model: \"sequential_329\"\n",
      "_________________________________________________________________\n",
      "Layer (type)                 Output Shape              Param #   \n",
      "=================================================================\n",
      "dense_987 (Dense)            (None, 12)                12012     \n",
      "_________________________________________________________________\n",
      "batch_normalization_329 (Bat (None, 12)                48        \n",
      "_________________________________________________________________\n",
      "dense_988 (Dense)            (None, 128)               1664      \n",
      "_________________________________________________________________\n",
      "dropout_329 (Dropout)        (None, 128)               0         \n",
      "_________________________________________________________________\n",
      "dense_989 (Dense)            (None, 1)                 129       \n",
      "=================================================================\n",
      "Total params: 13,853\n",
      "Trainable params: 13,829\n",
      "Non-trainable params: 24\n",
      "_________________________________________________________________\n"
     ]
    }
   ],
   "source": [
    "# get Model Summary \n",
    "model.summary()"
   ]
  },
  {
   "cell_type": "code",
   "execution_count": 61,
   "metadata": {},
   "outputs": [
    {
     "name": "stdout",
     "output_type": "stream",
     "text": [
      "Epoch 1/10\n",
      "42/42 [==============================] - 1s 4ms/step - loss: 0.8445 - accuracy: 0.6719 - val_loss: 0.7952 - val_accuracy: 0.7217\n",
      "Epoch 2/10\n",
      "42/42 [==============================] - 0s 2ms/step - loss: 0.7001 - accuracy: 0.7201 - val_loss: 0.7206 - val_accuracy: 0.7217\n",
      "Epoch 3/10\n",
      "42/42 [==============================] - 0s 2ms/step - loss: 0.5953 - accuracy: 0.7768 - val_loss: 0.6749 - val_accuracy: 0.7217\n",
      "Epoch 4/10\n",
      "42/42 [==============================] - 0s 2ms/step - loss: 0.5067 - accuracy: 0.8327 - val_loss: 0.6299 - val_accuracy: 0.7217\n",
      "Epoch 5/10\n",
      "42/42 [==============================] - 0s 2ms/step - loss: 0.4240 - accuracy: 0.8737 - val_loss: 0.5981 - val_accuracy: 0.7217\n",
      "Epoch 6/10\n",
      "42/42 [==============================] - 0s 2ms/step - loss: 0.3663 - accuracy: 0.8900 - val_loss: 0.5835 - val_accuracy: 0.7217\n",
      "Epoch 7/10\n",
      "42/42 [==============================] - 0s 2ms/step - loss: 0.3474 - accuracy: 0.8869 - val_loss: 0.5543 - val_accuracy: 0.7262\n",
      "Epoch 8/10\n",
      "42/42 [==============================] - 0s 2ms/step - loss: 0.2991 - accuracy: 0.9109 - val_loss: 0.5267 - val_accuracy: 0.7398\n",
      "Epoch 9/10\n",
      "42/42 [==============================] - 0s 2ms/step - loss: 0.2764 - accuracy: 0.9175 - val_loss: 0.4852 - val_accuracy: 0.7941\n",
      "Epoch 10/10\n",
      "42/42 [==============================] - 0s 2ms/step - loss: 0.2282 - accuracy: 0.9461 - val_loss: 0.4647 - val_accuracy: 0.8326\n"
     ]
    }
   ],
   "source": [
    "# fit the model and get the accuracy and val_accuracy score \n",
    "history = model.fit(X_train_trans, y_train, validation_data=(X_test_trans, y_test), epochs = 10)"
   ]
  },
  {
   "cell_type": "code",
   "execution_count": 62,
   "metadata": {},
   "outputs": [
    {
     "data": {
      "image/png": "[encoded data removed]",
      "text/plain": [
       "<Figure size 432x288 with 1 Axes>"
      ]
     },
     "metadata": {
      "needs_background": "light"
     },
     "output_type": "display_data"
    }
   ],
   "source": [
    "# plot test and train loss\n",
    "plt.plot(history.history['val_loss'], label='Test Loss')\n",
    "plt.plot(history.history['loss'], label=\"Train Loss\")\n",
    "plt.legend()\n",
    "plt.title('Validation Metrics')\n",
    "plt.xlabel(\"Epochs\")\n",
    "plt.ylabel(\"Loss Score\");"
   ]
  },
  {
   "cell_type": "code",
   "execution_count": 70,
   "metadata": {},
   "outputs": [
    {
     "name": "stderr",
     "output_type": "stream",
     "text": [
      "/home/babu/code/jupyterenvironment/lib/python3.8/site-packages/tensorflow/python/keras/engine/sequential.py:450: UserWarning: `model.predict_classes()` is deprecated and will be removed after 2021-01-01. Please use instead:* `np.argmax(model.predict(x), axis=-1)`,   if your model does multi-class classification   (e.g. if it uses a `softmax` last-layer activation).* `(model.predict(x) > 0.5).astype(\"int32\")`,   if your model does binary classification   (e.g. if it uses a `sigmoid` last-layer activation).\n",
      "  warnings.warn('`model.predict_classes()` is deprecated and '\n"
     ]
    }
   ],
   "source": [
    "# predict Y\n",
    "y_pred = model.predict_classes(X_test_trans)"
   ]
  },
  {
   "cell_type": "code",
   "execution_count": 71,
   "metadata": {},
   "outputs": [
    {
     "data": {
      "text/plain": [
       "0.7091775619950558"
      ]
     },
     "execution_count": 71,
     "metadata": {},
     "output_type": "execute_result"
    }
   ],
   "source": [
    "# generate balanced_accuracy_score\n",
    "balanced_accuracy_score(y_test, y_pred)"
   ]
  },
  {
   "cell_type": "code",
   "execution_count": 72,
   "metadata": {},
   "outputs": [],
   "source": [
    "# get True Negative, False positive, False Negative, and True Positive\n",
    "tn, fp, fn,tp = confusion_matrix(y_test, y_pred).ravel()"
   ]
  },
  {
   "cell_type": "code",
   "execution_count": 73,
   "metadata": {},
   "outputs": [
    {
     "name": "stdout",
     "output_type": "stream",
     "text": [
      " Precision: 0.8181818181818182\n",
      " Recall: 0.987460815047022\n",
      " Specificity: 0.987460815047022\n",
      " Balanced Accuracy: 0.7091775619950558\n",
      " Accuracy Score: 0.7805429864253394\n",
      " False Positive Rate : 0.5691056910569106\n"
     ]
    }
   ],
   "source": [
    "# Generate other metrics \n",
    "precision = tp / (tp+fp)\n",
    "recall = tp / (tp+fn)\n",
    "specificity = tn/(tn+fp)\n",
    "balanced_accuracy = (specificity + recall)/2\n",
    "ac = accuracy_score(y_test, predics)\n",
    "fpr = fp / (fp+tn) # False Positive Rate \n",
    "print(f\" Precision: {precision}\")\n",
    "print(f\" Recall: {recall}\")\n",
    "print(f\" Specificity: {recall}\")\n",
    "print(f\" Balanced Accuracy: {balanced_accuracy}\")\n",
    "print(f\" Accuracy Score: {ac}\")\n",
    "print(f\" False Positive Rate : {fpr}\")"
   ]
  },
  {
   "cell_type": "code",
   "execution_count": null,
   "metadata": {},
   "outputs": [],
   "source": []
  },
  {
   "cell_type": "code",
   "execution_count": null,
   "metadata": {},
   "outputs": [],
   "source": []
  }
 ],
 "metadata": {
  "kernelspec": {
   "display_name": "Python 3",
   "language": "python",
   "name": "python3"
  },
  "language_info": {
   "codemirror_mode": {
    "name": "ipython",
    "version": 3
   },
   "file_extension": ".py",
   "mimetype": "text/x-python",
   "name": "python",
   "nbconvert_exporter": "python",
   "pygments_lexer": "ipython3",
   "version": "3.8.5"
  }
 },
 "nbformat": 4,
 "nbformat_minor": 4
}
